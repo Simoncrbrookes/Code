{
 "cells": [
  {
   "cell_type": "code",
   "execution_count": 2,
   "metadata": {},
   "outputs": [],
   "source": [
    "import pandas as pd"
   ]
  },
  {
   "cell_type": "code",
   "execution_count": 3,
   "metadata": {},
   "outputs": [],
   "source": [
    "df = pd.read_csv(\"cleaned.csv\", index_col=\"Unnamed: 0\")\n",
    "df.reset_index(inplace=True)\n",
    "df = df[[\"username\", \"combined_interests\"]]\n",
    "df[\"combined_interests\"] = df['combined_interests'].apply(lambda x: eval(x))\n",
    "\n",
    "all_interests = []\n",
    "for _, row in df.iterrows():\n",
    "    for interest in row[\"combined_interests\"][0].split(\",\"):\n",
    "        all_interests.append(interest.strip())\n",
    "\n",
    "all_interests = set(all_interests)\n",
    "\n",
    "one_hot_encoding = pd.DataFrame(0, index=df.index, columns=list(all_interests))\n"
   ]
  },
  {
   "cell_type": "code",
   "execution_count": 4,
   "metadata": {},
   "outputs": [],
   "source": [
    "for i, lst in enumerate(df.iloc[:100][\"combined_interests\"]):\n",
    "    for interest in lst[0].split(\",\"):\n",
    "        one_hot_encoding.loc[i, interest.strip()] = 1\n"
   ]
  },
  {
   "cell_type": "code",
   "execution_count": 5,
   "metadata": {},
   "outputs": [],
   "source": [
    "result = pd.concat([df['username'], one_hot_encoding], axis=1)\n"
   ]
  },
  {
   "cell_type": "code",
   "execution_count": 115,
   "metadata": {},
   "outputs": [],
   "source": [
    "result.to_csv(\"interests.csv\", index=False)"
   ]
  }
 ],
 "metadata": {
  "kernelspec": {
   "display_name": "Python 3",
   "language": "python",
   "name": "python3"
  },
  "language_info": {
   "codemirror_mode": {
    "name": "ipython",
    "version": 3
   },
   "file_extension": ".py",
   "mimetype": "text/x-python",
   "name": "python",
   "nbconvert_exporter": "python",
   "pygments_lexer": "ipython3",
   "version": "3.11.0"
  },
  "orig_nbformat": 4
 },
 "nbformat": 4,
 "nbformat_minor": 2
}
